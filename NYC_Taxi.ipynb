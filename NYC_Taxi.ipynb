{
  "cells": [
    {
      "cell_type": "markdown",
      "metadata": {
        "id": "Yd4HFBKe5JV_"
      },
      "source": [
        "# Importing  necessary liberaries"
      ]
    },
    {
      "cell_type": "code",
      "source": [
        "from google.colab import drive\n",
        "drive.mount('/content/drive')"
      ],
      "metadata": {
        "colab": {
          "base_uri": "https://localhost:8080/",
          "height": 0
        },
        "id": "nVISk7bApvOS",
        "outputId": "f204cbf5-2c9b-4853-b908-c32e103c561c"
      },
      "execution_count": 1,
      "outputs": [
        {
          "output_type": "stream",
          "name": "stdout",
          "text": [
            "Mounted at /content/drive\n"
          ]
        }
      ]
    },
    {
      "cell_type": "code",
      "execution_count": 3,
      "metadata": {
        "id": "MAtnSqNQAPdh",
        "colab": {
          "base_uri": "https://localhost:8080/",
          "height": 0
        },
        "outputId": "070532d4-bdc9-4d0e-829c-f5ba8a24b467"
      },
      "outputs": [
        {
          "output_type": "stream",
          "name": "stdout",
          "text": [
            "Requirement already satisfied: pyspark in /usr/local/lib/python3.10/dist-packages (3.5.3)\n",
            "Requirement already satisfied: py4j==0.10.9.7 in /usr/local/lib/python3.10/dist-packages (from pyspark) (0.10.9.7)\n"
          ]
        }
      ],
      "source": [
        "!pip install pyspark"
      ]
    },
    {
      "cell_type": "code",
      "execution_count": 47,
      "metadata": {
        "id": "ugIDizZP6AkW"
      },
      "outputs": [],
      "source": [
        "# Additional Imports\n",
        "import pandas as pd\n",
        "import numpy as np\n",
        "import matplotlib.pyplot as plt\n",
        "import seaborn as sns\n",
        "import warnings\n",
        "warnings.filterwarnings(\"ignore\")\n",
        "\n",
        "# Spark-specific imports\n",
        "from pyspark.sql import SparkSession\n",
        "from pyspark.sql.functions import col, year, month, dayofmonth, date_format, hour, to_timestamp\n",
        "from pyspark.sql.types import *\n",
        "from pyspark.ml.feature import VectorAssembler\n",
        "from pyspark.ml.regression import LinearRegression, RandomForestRegressor\n",
        "from pyspark.ml.evaluation import RegressionEvaluator\n",
        "from pyspark.ml import Pipeline\n",
        "from pyspark.ml.tuning import CrossValidator, ParamGridBuilder\n",
        "import time\n",
        "\n"
      ]
    },
    {
      "cell_type": "code",
      "execution_count": 48,
      "metadata": {
        "id": "kLtj2l5xAH3Z"
      },
      "outputs": [],
      "source": [
        "# create the spark session\n",
        "spark=SparkSession.builder.appName(\"NYC Taxi Fare Predction\").getOrCreate()"
      ]
    },
    {
      "cell_type": "markdown",
      "metadata": {
        "id": "4HQkivv-5JfE"
      },
      "source": [
        "# Data Loading and Inspection"
      ]
    },
    {
      "cell_type": "code",
      "execution_count": 53,
      "metadata": {
        "id": "waiNqK-K8woa"
      },
      "outputs": [],
      "source": [
        "#Load data (modify the path as necessary)\n",
        "file_path = \"/content/drive/MyDrive/Colab Notebooks/train.csv\"\n",
        "number_of_rows = 200000\n",
        "min_latitude, max_latitude = -90, 90\n",
        "min_longitude, max_longitude = -180, 180"
      ]
    },
    {
      "cell_type": "code",
      "execution_count": 54,
      "metadata": {
        "id": "yZocIaO4D3cQ"
      },
      "outputs": [],
      "source": [
        "# read csv file from google drive and show 10 rows from the dataframe\n",
        "df = spark.read.csv(file_path, header=True, inferSchema=True).limit(\n",
        "    number_of_rows)\n"
      ]
    },
    {
      "cell_type": "code",
      "source": [
        "df.show(10)"
      ],
      "metadata": {
        "colab": {
          "base_uri": "https://localhost:8080/",
          "height": 0
        },
        "id": "ha3g6b3Y146u",
        "outputId": "b958be8b-c311-40b0-efac-82319dc84040"
      },
      "execution_count": 55,
      "outputs": [
        {
          "output_type": "stream",
          "name": "stdout",
          "text": [
            "+----------+-----------+---------------+----------------+---------------+-----------------+----------------+---------------+\n",
            "|       key|fare_amount|pickup_datetime|pickup_longitude|pickup_latitude|dropoff_longitude|dropoff_latitude|passenger_count|\n",
            "+----------+-----------+---------------+----------------+---------------+-----------------+----------------+---------------+\n",
            "|2009-06-15|        4.5|     2009-06-15|      -73.844311|      40.721319|        -73.84161|       40.712278|              1|\n",
            "|2010-01-05|       16.9|     2010-01-05|      -74.016048|      40.711303|       -73.979268|       40.782004|              1|\n",
            "|2011-08-18|        5.7|     2011-08-18|      -73.982738|       40.76127|       -73.991242|       40.750562|              2|\n",
            "|2012-04-21|        7.7|     2012-04-21|       -73.98713|      40.733143|       -73.991567|       40.758092|              1|\n",
            "|2010-03-09|        5.3|     2010-03-09|      -73.968095|      40.768008|       -73.956655|       40.783762|              1|\n",
            "|2011-01-06|       12.1|     2011-01-06|      -74.000964|       40.73163|       -73.972892|       40.758233|              1|\n",
            "|2012-11-20|        7.5|     2012-11-20|      -73.980002|      40.751662|       -73.973802|       40.764842|              1|\n",
            "|2012-01-04|       16.5|     2012-01-04|        -73.9513|      40.774138|       -73.990095|       40.751048|              1|\n",
            "|2012-12-03|        9.0|     2012-12-03|      -74.006462|      40.726713|       -73.993078|       40.731628|              1|\n",
            "|2009-09-02|        8.9|     2009-09-02|      -73.980658|      40.733873|        -73.99154|       40.758138|              2|\n",
            "+----------+-----------+---------------+----------------+---------------+-----------------+----------------+---------------+\n",
            "only showing top 10 rows\n",
            "\n"
          ]
        }
      ]
    },
    {
      "cell_type": "code",
      "source": [
        "df_new = df.withColumn(\"pickup_datetime\", to_timestamp(col(\"pickup_datetime\"), \"yyyy-MM-dd HH:mm:ss\"))"
      ],
      "metadata": {
        "id": "xeMkR9jQs5Ep"
      },
      "execution_count": 56,
      "outputs": []
    },
    {
      "cell_type": "code",
      "source": [
        "df_new.show(10)"
      ],
      "metadata": {
        "colab": {
          "base_uri": "https://localhost:8080/",
          "height": 0
        },
        "id": "oZLdUY0ptKXL",
        "outputId": "64ff11bd-2f20-4f25-8bb4-85ec2726635e"
      },
      "execution_count": 57,
      "outputs": [
        {
          "output_type": "stream",
          "name": "stdout",
          "text": [
            "+----------+-----------+-------------------+----------------+---------------+-----------------+----------------+---------------+\n",
            "|       key|fare_amount|    pickup_datetime|pickup_longitude|pickup_latitude|dropoff_longitude|dropoff_latitude|passenger_count|\n",
            "+----------+-----------+-------------------+----------------+---------------+-----------------+----------------+---------------+\n",
            "|2009-06-15|        4.5|2009-06-15 00:00:00|      -73.844311|      40.721319|        -73.84161|       40.712278|              1|\n",
            "|2010-01-05|       16.9|2010-01-05 00:00:00|      -74.016048|      40.711303|       -73.979268|       40.782004|              1|\n",
            "|2011-08-18|        5.7|2011-08-18 00:00:00|      -73.982738|       40.76127|       -73.991242|       40.750562|              2|\n",
            "|2012-04-21|        7.7|2012-04-21 00:00:00|       -73.98713|      40.733143|       -73.991567|       40.758092|              1|\n",
            "|2010-03-09|        5.3|2010-03-09 00:00:00|      -73.968095|      40.768008|       -73.956655|       40.783762|              1|\n",
            "|2011-01-06|       12.1|2011-01-06 00:00:00|      -74.000964|       40.73163|       -73.972892|       40.758233|              1|\n",
            "|2012-11-20|        7.5|2012-11-20 00:00:00|      -73.980002|      40.751662|       -73.973802|       40.764842|              1|\n",
            "|2012-01-04|       16.5|2012-01-04 00:00:00|        -73.9513|      40.774138|       -73.990095|       40.751048|              1|\n",
            "|2012-12-03|        9.0|2012-12-03 00:00:00|      -74.006462|      40.726713|       -73.993078|       40.731628|              1|\n",
            "|2009-09-02|        8.9|2009-09-02 00:00:00|      -73.980658|      40.733873|        -73.99154|       40.758138|              2|\n",
            "+----------+-----------+-------------------+----------------+---------------+-----------------+----------------+---------------+\n",
            "only showing top 10 rows\n",
            "\n"
          ]
        }
      ]
    },
    {
      "cell_type": "code",
      "execution_count": 58,
      "metadata": {
        "colab": {
          "base_uri": "https://localhost:8080/",
          "height": 0
        },
        "id": "2Pg7amvTEKrw",
        "outputId": "48f5bead-07f0-40e8-fd59-2c2f07233867"
      },
      "outputs": [
        {
          "output_type": "stream",
          "name": "stdout",
          "text": [
            "root\n",
            " |-- key: date (nullable = true)\n",
            " |-- fare_amount: double (nullable = true)\n",
            " |-- pickup_datetime: timestamp (nullable = true)\n",
            " |-- pickup_longitude: double (nullable = true)\n",
            " |-- pickup_latitude: double (nullable = true)\n",
            " |-- dropoff_longitude: double (nullable = true)\n",
            " |-- dropoff_latitude: double (nullable = true)\n",
            " |-- passenger_count: integer (nullable = true)\n",
            "\n"
          ]
        }
      ],
      "source": [
        "# check for the columns, data types and if there are any null values\n",
        "df_new.printSchema()"
      ]
    },
    {
      "cell_type": "code",
      "execution_count": 59,
      "metadata": {
        "colab": {
          "base_uri": "https://localhost:8080/",
          "height": 0
        },
        "id": "dpu0_dGREyGN",
        "outputId": "ca531bd3-b4d9-4044-cbef-992e70d1cd86"
      },
      "outputs": [
        {
          "output_type": "stream",
          "name": "stdout",
          "text": [
            "Number of partitions: 1\n"
          ]
        }
      ],
      "source": [
        "# check for the number of partitons\n",
        "num_partitions = df_new.rdd.getNumPartitions()\n",
        "print(\"Number of partitions:\", num_partitions)"
      ]
    },
    {
      "cell_type": "code",
      "execution_count": 60,
      "metadata": {
        "colab": {
          "base_uri": "https://localhost:8080/",
          "height": 0
        },
        "id": "SFrH42x8FqvM",
        "outputId": "f76cd25a-f315-4aaf-95a0-441a23bdce00"
      },
      "outputs": [
        {
          "output_type": "stream",
          "name": "stdout",
          "text": [
            "Number of rows: 200000\n"
          ]
        }
      ],
      "source": [
        "# count number of rows\n",
        "row_count = df_new.count()\n",
        "print(\"Number of rows:\", row_count)"
      ]
    },
    {
      "cell_type": "code",
      "execution_count": 61,
      "metadata": {
        "colab": {
          "base_uri": "https://localhost:8080/",
          "height": 0
        },
        "id": "yjeDPYuBGvrh",
        "outputId": "ab539fa8-5a4c-4edc-ba3e-dbdc97c8c04e"
      },
      "outputs": [
        {
          "output_type": "stream",
          "name": "stdout",
          "text": [
            "+-------+------------------+------------------+------------------+------------------+-----------------+------------------+\n",
            "|summary|       fare_amount|  pickup_longitude|   pickup_latitude| dropoff_longitude| dropoff_latitude|   passenger_count|\n",
            "+-------+------------------+------------------+------------------+------------------+-----------------+------------------+\n",
            "|  count|            200000|            200000|            200000|            199999|           199999|            200000|\n",
            "|   mean|11.342876950000601|-72.50612144955218|39.922325777255104|-72.51867346221218|39.92557945791384|          1.682445|\n",
            "| stddev| 9.837854787330032|11.608096802996164|10.048946659938037|10.724225862534897|6.751120031010652|1.3067296429203594|\n",
            "|    min|             -44.9|           -736.55|      -3116.285383|       -1251.19589|      -1189.61544|                 0|\n",
            "|    max|             500.0|        2140.60116|       1703.092772|         40.851027|       404.616667|                 6|\n",
            "+-------+------------------+------------------+------------------+------------------+-----------------+------------------+\n",
            "\n"
          ]
        }
      ],
      "source": [
        "# checking for the statistical summary\n",
        "summary_df =df_new.describe()\n",
        "summary_df.show()"
      ]
    },
    {
      "cell_type": "markdown",
      "metadata": {
        "id": "isJpOWYsRlgp"
      },
      "source": [
        "**The minimum** fare is in negative, which is clearly erroneous (fares should not be negative).\n",
        "**The maximum** fare is $93,963.36, which is extremely high and likely an outlier."
      ]
    },
    {
      "cell_type": "markdown",
      "metadata": {
        "id": "nuvmqkR55Jhc"
      },
      "source": [
        "# Data Cleaning and f"
      ]
    },
    {
      "cell_type": "code",
      "execution_count": 62,
      "metadata": {
        "id": "fl0Un7JqSQmj"
      },
      "outputs": [],
      "source": [
        "# drop the rows with the null columns\n",
        "df_new=df_new.na.drop()"
      ]
    },
    {
      "cell_type": "code",
      "execution_count": 63,
      "metadata": {
        "id": "Ajrvp5guGfPl"
      },
      "outputs": [],
      "source": [
        "# drop duplicates\n",
        "df_new=df_new.dropDuplicates()"
      ]
    },
    {
      "cell_type": "code",
      "execution_count": 64,
      "metadata": {
        "id": "SvBAxuQ8GfZz"
      },
      "outputs": [],
      "source": [
        "# filtering out the erroneous data\n",
        "df_1 = df_new.filter(col('fare_amount') >= 0) \\\n",
        "               .filter((col('passenger_count') > 0) & (col('passenger_count') < 7)) \\\n",
        "               .filter((col('pickup_longitude') >= min_latitude) & (col('pickup_longitude') <= max_latitude)) \\\n",
        "               .filter((col('pickup_latitude') >= min_longitude) & (col('pickup_latitude') <= max_longitude)) \\\n",
        "               .filter((col('dropoff_longitude') >= min_latitude) & (col('dropoff_longitude') <= max_latitude)) \\\n",
        "               .filter((col('dropoff_latitude') >= min_longitude) & (col('dropoff_latitude') <= max_longitude))\n",
        "\n",
        "# alternatively, df_new = df_new.where(col('fare_amount') >= 0)"
      ]
    },
    {
      "cell_type": "code",
      "execution_count": 65,
      "metadata": {
        "id": "tF3Xt0FHtCfA"
      },
      "outputs": [],
      "source": [
        "# removeing outlier\n",
        "q1 = df_1.approxQuantile(\"fare_amount\", [0.25], 0.01)[0]\n",
        "q3 = df_1.approxQuantile(\"fare_amount\", [0.75], 0.01)[0]\n",
        "iqr = q3 - q1\n",
        "\n",
        "# defining upper and the lower bound\n",
        "lower_bound = q1 - 1.5 * iqr\n",
        "upper_bound = q3 + 1.5 * iqr"
      ]
    },
    {
      "cell_type": "code",
      "execution_count": 66,
      "metadata": {
        "id": "uiTDIgmotJzl"
      },
      "outputs": [],
      "source": [
        "df_1 = df_1.filter(col('fare_amount') >= lower_bound) \\\n",
        "               .filter(col('fare_amount') <= upper_bound )"
      ]
    },
    {
      "cell_type": "code",
      "execution_count": 67,
      "metadata": {
        "colab": {
          "base_uri": "https://localhost:8080/",
          "height": 0
        },
        "id": "_U4HCi8uGfk0",
        "outputId": "823ec8ec-be65-42a9-e329-cfed79314365"
      },
      "outputs": [
        {
          "output_type": "stream",
          "name": "stdout",
          "text": [
            "root\n",
            " |-- fare_amount: double (nullable = true)\n",
            " |-- pickup_datetime: timestamp (nullable = true)\n",
            " |-- pickup_longitude: double (nullable = true)\n",
            " |-- pickup_latitude: double (nullable = true)\n",
            " |-- dropoff_longitude: double (nullable = true)\n",
            " |-- dropoff_latitude: double (nullable = true)\n",
            " |-- passenger_count: integer (nullable = true)\n",
            " |-- year: integer (nullable = true)\n",
            " |-- month: integer (nullable = true)\n",
            " |-- day: integer (nullable = true)\n",
            " |-- day_of_week: integer (nullable = true)\n",
            " |-- hour_of_day: integer (nullable = true)\n",
            "\n"
          ]
        }
      ],
      "source": [
        "# extracting new columns from pickup_datetime\n",
        "df_1 = df_1.withColumn(\"year\", year(col(\"pickup_datetime\"))) \\\n",
        "       .withColumn(\"month\", month(col(\"pickup_datetime\"))) \\\n",
        "       .withColumn(\"day\", dayofmonth(col(\"pickup_datetime\"))) \\\n",
        "       .withColumn(\"day_of_week\", date_format(col(\"pickup_datetime\"), 'u').cast(IntegerType())) \\\n",
        "       .withColumn(\"hour_of_day\", hour(col(\"pickup_datetime\"))) \\\n",
        "       .drop(\"key\")\n",
        "\n",
        "df_1.printSchema()"
      ]
    },
    {
      "cell_type": "code",
      "execution_count": 21,
      "metadata": {
        "colab": {
          "base_uri": "https://localhost:8080/",
          "height": 0
        },
        "id": "_2MohoNjjjC4",
        "outputId": "ac97dd29-fdd2-4608-a18b-413f29bd8a5e"
      },
      "outputs": [
        {
          "output_type": "stream",
          "name": "stdout",
          "text": [
            "+-----------+-------------------+----------------+---------------+-----------------+----------------+---------------+----+-----+---+-----------+-----------+\n",
            "|fare_amount|    pickup_datetime|pickup_longitude|pickup_latitude|dropoff_longitude|dropoff_latitude|passenger_count|year|month|day|day_of_week|hour_of_day|\n",
            "+-----------+-------------------+----------------+---------------+-----------------+----------------+---------------+----+-----+---+-----------+-----------+\n",
            "|        4.5|2009-06-15 17:26:21|      -73.844311|      40.721319|        -73.84161|       40.712278|              1|2009|    6| 15|          1|         17|\n",
            "|       16.9|2010-01-05 16:52:16|      -74.016048|      40.711303|       -73.979268|       40.782004|              1|2010|    1|  5|          2|         16|\n",
            "|        5.7|2011-08-18 00:35:00|      -73.982738|       40.76127|       -73.991242|       40.750562|              2|2011|    8| 18|          4|          0|\n",
            "|        7.7|2012-04-21 04:30:42|       -73.98713|      40.733143|       -73.991567|       40.758092|              1|2012|    4| 21|          6|          4|\n",
            "|        5.3|2010-03-09 07:51:00|      -73.968095|      40.768008|       -73.956655|       40.783762|              1|2010|    3|  9|          2|          7|\n",
            "|       12.1|2011-01-06 09:50:45|      -74.000964|       40.73163|       -73.972892|       40.758233|              1|2011|    1|  6|          4|          9|\n",
            "|        7.5|2012-11-20 20:35:00|      -73.980002|      40.751662|       -73.973802|       40.764842|              1|2012|   11| 20|          2|         20|\n",
            "|       16.5|2012-01-04 17:22:00|        -73.9513|      40.774138|       -73.990095|       40.751048|              1|2012|    1|  4|          3|         17|\n",
            "|        9.0|2012-12-03 13:10:00|      -74.006462|      40.726713|       -73.993078|       40.731628|              1|2012|   12|  3|          1|         13|\n",
            "|        8.9|2009-09-02 01:11:00|      -73.980658|      40.733873|        -73.99154|       40.758138|              2|2009|    9|  2|          3|          1|\n",
            "+-----------+-------------------+----------------+---------------+-----------------+----------------+---------------+----+-----+---+-----------+-----------+\n",
            "only showing top 10 rows\n",
            "\n"
          ]
        }
      ],
      "source": [
        "df_1.show(10)"
      ]
    },
    {
      "cell_type": "markdown",
      "metadata": {
        "id": "4C8bwEkQ5Jj3"
      },
      "source": [
        "# Exploratory Data Analysis (EDA)"
      ]
    },
    {
      "cell_type": "code",
      "source": [
        "sns.scatterplot(x='pickup_longitude', y= 'pickup_latitude', hue='fare_amount',data=df_1.toPandas())\n",
        "plt.show()"
      ],
      "metadata": {
        "colab": {
          "base_uri": "https://localhost:8080/",
          "height": 450
        },
        "id": "QcSqCEURwQtM",
        "outputId": "54137a1f-1246-4dc8-b768-7d6aeb5f319c"
      },
      "execution_count": 29,
      "outputs": [
        {
          "output_type": "display_data",
          "data": {
            "text/plain": [
              "<Figure size 640x480 with 1 Axes>"
            ],
            "image/png": "[encoded data removed]"
          },
          "metadata": {}
        }
      ]
    },
    {
      "cell_type": "code",
      "source": [
        "sns.scatterplot(x='pickup_longitude', y= 'pickup_latitude', data= df_1.toPandas())\n",
        "plt.show()"
      ],
      "metadata": {
        "colab": {
          "base_uri": "https://localhost:8080/",
          "height": 450
        },
        "id": "nW5pFefLxfO4",
        "outputId": "34dcf762-d6d5-4db0-b752-6b246e2a4565"
      },
      "execution_count": 30,
      "outputs": [
        {
          "output_type": "display_data",
          "data": {
            "text/plain": [
              "<Figure size 640x480 with 1 Axes>"
            ],
            "image/png": "[encoded data removed]"
          },
          "metadata": {}
        }
      ]
    },
    {
      "cell_type": "code",
      "execution_count": 22,
      "metadata": {
        "id": "2hLVPC6aiu2V"
      },
      "outputs": [],
      "source": [
        "# create tempurarty view to execute sql queries\n",
        "df_1.createOrReplaceTempView(\"NYC_taxi_data\")"
      ]
    },
    {
      "cell_type": "code",
      "execution_count": 23,
      "metadata": {
        "id": "yAu1OILmnUHa",
        "colab": {
          "base_uri": "https://localhost:8080/",
          "height": 0
        },
        "outputId": "05a1a16c-0808-4a38-ea70-fbaf2e297de7"
      },
      "outputs": [
        {
          "output_type": "stream",
          "name": "stdout",
          "text": [
            "+-----------------+------------------+------------------+--------------------+-------------------+---------------------+--------------------+-------------------+\n",
            "|  avg_fare_amount|median_fare_amount|stddev_fare_amount|avg_pickup_longitude|avg_pickup_latitude|avg_dropoff_longitude|avg_dropoff_latitude|avg_passenger_count|\n",
            "+-----------------+------------------+------------------+--------------------+-------------------+---------------------+--------------------+-------------------+\n",
            "|9.011947439971735|               8.0| 4.265359863628189|  -72.54411620845715|  39.94258658840471|     -72.539347519805|   39.94163562162204| 1.6864320465801448|\n",
            "+-----------------+------------------+------------------+--------------------+-------------------+---------------------+--------------------+-------------------+\n",
            "\n"
          ]
        }
      ],
      "source": [
        "# Mean, median, and standard deviation for numerical columns\n",
        "summery_stats = \"\"\"\n",
        "SELECT\n",
        "    AVG(fare_amount) AS avg_fare_amount,\n",
        "    PERCENTILE_APPROX(fare_amount, 0.5) AS median_fare_amount,\n",
        "    STDDEV(fare_amount) AS stddev_fare_amount,\n",
        "    AVG(pickup_longitude) AS avg_pickup_longitude,\n",
        "    AVG(pickup_latitude) AS avg_pickup_latitude,\n",
        "    AVG(dropoff_longitude) AS avg_dropoff_longitude,\n",
        "    AVG(dropoff_latitude) AS avg_dropoff_latitude,\n",
        "    AVG(passenger_count) AS avg_passenger_count\n",
        "FROM NYC_taxi_data\n",
        "\"\"\"\n",
        "summary_stats = spark.sql(summery_stats)\n",
        "summary_stats.show()"
      ]
    },
    {
      "cell_type": "code",
      "execution_count": 24,
      "metadata": {
        "id": "oGK92oSlovsa",
        "colab": {
          "base_uri": "https://localhost:8080/",
          "height": 0
        },
        "outputId": "90e884d3-758b-4f32-fdd5-4d1a8a856ad6"
      },
      "outputs": [
        {
          "output_type": "stream",
          "name": "stdout",
          "text": [
            "+-----------+----------+\n",
            "|hour_of_day|trip_count|\n",
            "+-----------+----------+\n",
            "|         19|     14546|\n",
            "|         18|     14095|\n",
            "|         20|     13723|\n",
            "|         21|     13208|\n",
            "|         22|     12804|\n",
            "|         14|     11468|\n",
            "|         23|     11281|\n",
            "|         12|     11264|\n",
            "|         17|     11234|\n",
            "|          9|     11055|\n",
            "|         13|     11026|\n",
            "|         11|     10752|\n",
            "|         15|     10725|\n",
            "|          8|     10446|\n",
            "|         10|     10324|\n",
            "|         16|      9043|\n",
            "|          0|      8933|\n",
            "|          7|      8468|\n",
            "|          1|      6611|\n",
            "|          2|      5066|\n",
            "+-----------+----------+\n",
            "only showing top 20 rows\n",
            "\n"
          ]
        }
      ],
      "source": [
        "# which time of the day is the busiest\n",
        "busiest_hour = \"\"\"\n",
        "SELECT\n",
        "    hour_of_day,\n",
        "    COUNT(*) AS trip_count\n",
        "FROM NYC_taxi_data\n",
        "GROUP BY hour_of_day\n",
        "ORDER BY trip_count DESC\n",
        "\"\"\"\n",
        "busiest_hour = spark.sql(busiest_hour)\n",
        "busiest_hour.show()"
      ]
    },
    {
      "cell_type": "code",
      "execution_count": 25,
      "metadata": {
        "id": "mkBCPR7zqlj8",
        "colab": {
          "base_uri": "https://localhost:8080/",
          "height": 0
        },
        "outputId": "432c2ef2-a459-47b1-a2d3-3af2cec5c2d6"
      },
      "outputs": [
        {
          "output_type": "stream",
          "name": "stdout",
          "text": [
            "+-----------+----------+\n",
            "|day_of_week|trip_count|\n",
            "+-----------+----------+\n",
            "|          5|     35486|\n",
            "|          6|     35252|\n",
            "|          4|     34008|\n",
            "|          3|     33408|\n",
            "|          2|     31829|\n",
            "|          7|     29577|\n",
            "|          1|     29207|\n",
            "+-----------+----------+\n",
            "\n"
          ]
        }
      ],
      "source": [
        "# which day of the week is the busiest day\n",
        "busiest_day_of_week = \"\"\"\n",
        "SELECT\n",
        "    day_of_week,\n",
        "    COUNT(*) AS trip_count\n",
        "FROM NYC_taxi_data\n",
        "GROUP BY day_of_week\n",
        "ORDER BY trip_count DESC\n",
        "\"\"\"\n",
        "busiest_day_of_week = spark.sql(busiest_day_of_week)\n",
        "busiest_day_of_week.show()"
      ]
    },
    {
      "cell_type": "code",
      "execution_count": 26,
      "metadata": {
        "id": "Qk8fKUb6rfgK",
        "colab": {
          "base_uri": "https://localhost:8080/",
          "height": 0
        },
        "outputId": "0aeb6510-a51a-455c-d415-016ad82e3717"
      },
      "outputs": [
        {
          "output_type": "stream",
          "name": "stdout",
          "text": [
            "+----+-----+---+-----------------+----------+\n",
            "|year|month|day|     average_fare|trip_count|\n",
            "+----+-----+---+-----------------+----------+\n",
            "|2009|    1|  1|8.127710843373498|        83|\n",
            "|2009|    1|  2|8.278313253012044|        83|\n",
            "|2009|    1|  3|8.487356321839078|        87|\n",
            "|2009|    1|  4| 8.18024691358025|        81|\n",
            "|2009|    1|  5|8.011111111111113|        72|\n",
            "|2009|    1|  6|7.463440860215058|        93|\n",
            "|2009|    1|  7|7.986931818181821|        88|\n",
            "|2009|    1|  8|7.753846153846154|        91|\n",
            "|2009|    1|  9|8.008661417322836|       127|\n",
            "|2009|    1| 10|7.709677419354839|        93|\n",
            "|2009|    1| 11|8.302808988764044|        89|\n",
            "|2009|    1| 12| 8.18314606741573|        89|\n",
            "|2009|    1| 13|8.292574257425743|       101|\n",
            "|2009|    1| 14| 8.08849557522124|       113|\n",
            "|2009|    1| 15|8.496634615384615|       104|\n",
            "|2009|    1| 16|8.207692307692307|       117|\n",
            "|2009|    1| 17| 7.88148148148148|       108|\n",
            "|2009|    1| 18|7.957692307692304|        78|\n",
            "|2009|    1| 19|7.239583333333336|        96|\n",
            "|2009|    1| 20|7.329787234042556|        94|\n",
            "+----+-----+---+-----------------+----------+\n",
            "only showing top 20 rows\n",
            "\n"
          ]
        }
      ],
      "source": [
        "# daily trend: average fare amount and trip count per day\n",
        "daily_trends = spark.sql(\"\"\"\n",
        "    SELECT year, month, day,\n",
        "           AVG(fare_amount) AS average_fare,\n",
        "           COUNT(*) AS trip_count\n",
        "    FROM NYC_taxi_data\n",
        "    GROUP BY year, month, day\n",
        "    ORDER BY year, month, day\n",
        "\"\"\")\n",
        "daily_trends.show()\n"
      ]
    },
    {
      "cell_type": "code",
      "source": [
        "# weekly average fare and trip count by day of the week\n",
        "weekly_trends = spark.sql(\"\"\"\n",
        "    SELECT day_of_week,\n",
        "           AVG(fare_amount) AS average_fare,\n",
        "           COUNT(*) AS trip_count\n",
        "    FROM NYC_taxi_data\n",
        "    GROUP BY day_of_week\n",
        "    ORDER BY day_of_week\n",
        "\"\"\")\n",
        "weekly_trends.show()\n"
      ],
      "metadata": {
        "id": "Y71kV05s3jiK",
        "colab": {
          "base_uri": "https://localhost:8080/",
          "height": 0
        },
        "outputId": "2581f48e-1a5d-45fb-a746-4b0f85e5211e"
      },
      "execution_count": 34,
      "outputs": [
        {
          "output_type": "stream",
          "name": "stdout",
          "text": [
            "+-----------+-----------------+----------+\n",
            "|day_of_week|     average_fare|trip_count|\n",
            "+-----------+-----------------+----------+\n",
            "|          1|8.768834868353439|     29207|\n",
            "|          2|8.903469477520572|     31829|\n",
            "|          3| 9.01730693247123|     33408|\n",
            "|          4|9.089918548576803|     34008|\n",
            "|          5|9.128559150087417|     35486|\n",
            "|          6|9.080634857596662|     35252|\n",
            "|          7|9.051274977178233|     29577|\n",
            "+-----------+-----------------+----------+\n",
            "\n"
          ]
        }
      ]
    },
    {
      "cell_type": "markdown",
      "metadata": {
        "id": "KoWF6hMB5mm6"
      },
      "source": [
        "#Feature Engineering and Feature Selection"
      ]
    },
    {
      "cell_type": "code",
      "source": [
        "df_1=df_1.drop(\"pickup_datetime\")"
      ],
      "metadata": {
        "id": "TKgOIQa9CBYr"
      },
      "execution_count": 37,
      "outputs": []
    },
    {
      "cell_type": "code",
      "source": [
        "from pyspark.sql.functions import radians, cos, sin, asin, sqrt\n",
        "\n",
        "# Define function to calculate Haversine distance\n",
        "def haversine_distance(lat1, lon1, lat2, lon2):\n",
        "    R = 6371  # Radius of Earth in kilometers\n",
        "    return (\n",
        "        R\n",
        "        * 2\n",
        "        * asin(\n",
        "            sqrt(\n",
        "                sin((radians(lat2) - radians(lat1)) / 2) ** 2\n",
        "                + cos(radians(lat1)) * cos(radians(lat2)) * sin((radians(lon2) - radians(lon1)) / 2) ** 2\n",
        "            )\n",
        "        )\n",
        "    )\n",
        "\n",
        "# Apply the distance calculation\n",
        "df_1 = df_1.withColumn(\n",
        "    'distance_km',\n",
        "    haversine_distance(\n",
        "        col(\"pickup_latitude\"), col(\"pickup_longitude\"),\n",
        "        col(\"dropoff_latitude\"), col(\"dropoff_longitude\")\n",
        "    )\n",
        ")\n",
        "\n"
      ],
      "metadata": {
        "id": "4x9Hm8UG6u60"
      },
      "execution_count": 68,
      "outputs": []
    },
    {
      "cell_type": "code",
      "source": [
        "from pyspark.sql.functions import hour, dayofweek, col\n",
        "\n",
        "# Extract temporal features and define rush hour\n",
        "df_1 = df_1.withColumn(\"hour_of_day\", hour(\"pickup_datetime\")) \\\n",
        "           .withColumn(\"day_of_week\", dayofweek(\"pickup_datetime\")) \\\n",
        "           .withColumn(\"rush_hour\", ((col(\"hour_of_day\").between(7, 9)) | (col(\"hour_of_day\").between(16, 18))).cast(\"integer\"))"
      ],
      "metadata": {
        "id": "VjCnaPkB63NM"
      },
      "execution_count": 71,
      "outputs": []
    },
    {
      "source": [
        "from pyspark.sql.functions import hour, dayofweek, col\n",
        "\n",
        "# Extract temporal features and define rush hour\n",
        "df_1 = df_1.withColumn(\"hour_of_day\", hour(\"pickup_datetime\")) \\\n",
        "           .withColumn(\"day_of_week\", dayofweek(\"pickup_datetime\")) \\\n",
        "           .withColumn(\"rush_hour\", ((col(\"hour_of_day\").between(7, 9)) | (col(\"hour_of_day\").between(16, 18))).cast(\"integer\"))"
      ],
      "cell_type": "code",
      "metadata": {
        "id": "-mF2vbho92O3"
      },
      "execution_count": 70,
      "outputs": []
    },
    {
      "cell_type": "code",
      "source": [
        "# select features and target variable\n",
        "feature_columns = [\"pickup_longitude\", \"pickup_latitude\", \"dropoff_longitude\", \"dropoff_latitude\",\n",
        "                   \"passenger_count\", \"month\", \"day\", \"day_of_week\", \"hour_of_day\"]\n",
        "target_column = \"fare_amount\""
      ],
      "metadata": {
        "id": "iZWPb-Zm4r5G"
      },
      "execution_count": 72,
      "outputs": []
    },
    {
      "cell_type": "code",
      "source": [
        "# create feature vector\n",
        "assembler = VectorAssembler(inputCols=feature_columns, outputCol=\"features\")\n",
        "data = assembler.transform(df_1)"
      ],
      "metadata": {
        "id": "Q2NGgjZ05A8b"
      },
      "execution_count": 39,
      "outputs": []
    },
    {
      "cell_type": "code",
      "source": [
        "# Convert to Pandas for quick visualization\n",
        "df_1 = df_1.select(\"distance_km\").toPandas()\n",
        "\n",
        "plt.figure(figsize=(10, 6))\n",
        "sns.histplot(df_1[\"distance_km\"], bins=50, kde=True)\n",
        "plt.title(\"Distribution of Trip Distances\")\n",
        "plt.xlabel(\"Distance (km)\")\n",
        "plt.ylabel(\"Frequency\")\n",
        "plt.show()\n"
      ],
      "metadata": {
        "colab": {
          "base_uri": "https://localhost:8080/",
          "height": 564
        },
        "id": "QLF_JKpy6tfB",
        "outputId": "dd2df2a4-6ad3-45d3-d899-9c4bb4c1302e"
      },
      "execution_count": 73,
      "outputs": [
        {
          "output_type": "display_data",
          "data": {
            "text/plain": [
              "<Figure size 1000x600 with 1 Axes>"
            ],
            "image/png": "[encoded data removed]"
          },
          "metadata": {}
        }
      ]
    },
    {
      "cell_type": "markdown",
      "metadata": {
        "id": "G3a_bHeJ5mpN"
      },
      "source": [
        "# Split Data"
      ]
    },
    {
      "cell_type": "code",
      "source": [
        "final_data = data.select(\"features\", \"fare_amount\")\n",
        "final_data.show(10)"
      ],
      "metadata": {
        "colab": {
          "base_uri": "https://localhost:8080/",
          "height": 0
        },
        "id": "Z3j52Pxa1Cts",
        "outputId": "ad83336b-3728-43d9-b7bd-beddf9c20f06"
      },
      "execution_count": 40,
      "outputs": [
        {
          "output_type": "stream",
          "name": "stdout",
          "text": [
            "+--------------------+-----------+\n",
            "|            features|fare_amount|\n",
            "+--------------------+-----------+\n",
            "|[-73.844311,40.72...|        4.5|\n",
            "|[-74.016048,40.71...|       16.9|\n",
            "|[-73.982738,40.76...|        5.7|\n",
            "|[-73.98713,40.733...|        7.7|\n",
            "|[-73.968095,40.76...|        5.3|\n",
            "|[-74.000964,40.73...|       12.1|\n",
            "|[-73.980002,40.75...|        7.5|\n",
            "|[-73.9513,40.7741...|       16.5|\n",
            "|[-74.006462,40.72...|        9.0|\n",
            "|[-73.980658,40.73...|        8.9|\n",
            "+--------------------+-----------+\n",
            "only showing top 10 rows\n",
            "\n"
          ]
        }
      ]
    },
    {
      "cell_type": "code",
      "source": [
        "# split the data into training and testing sets (80% training, 20% testing)\n",
        "train_data, test_data = final_data.randomSplit([0.8, 0.2], seed=42)"
      ],
      "metadata": {
        "id": "25T3IZSb497e"
      },
      "execution_count": 41,
      "outputs": []
    },
    {
      "cell_type": "code",
      "source": [
        "train_data.show(10)"
      ],
      "metadata": {
        "colab": {
          "base_uri": "https://localhost:8080/",
          "height": 0
        },
        "id": "C4lljIzh0eAn",
        "outputId": "ba0bbb1c-ddd1-4ee2-bc7f-d596ea7259be"
      },
      "execution_count": 42,
      "outputs": [
        {
          "output_type": "stream",
          "name": "stdout",
          "text": [
            "+--------------------+-----------+\n",
            "|            features|fare_amount|\n",
            "+--------------------+-----------+\n",
            "|(9,[4,5,6,7],[1.0...|        6.6|\n",
            "|(9,[4,5,6,7],[1.0...|        6.5|\n",
            "|(9,[4,5,6,7],[1.0...|       15.0|\n",
            "|(9,[4,5,6,7],[1.0...|        8.6|\n",
            "|(9,[4,5,6,7],[1.0...|        7.3|\n",
            "|(9,[4,5,6,7],[1.0...|        4.1|\n",
            "|(9,[4,5,6,7],[1.0...|        7.3|\n",
            "|(9,[4,5,6,7],[1.0...|       14.1|\n",
            "|(9,[4,5,6,7],[1.0...|       16.1|\n",
            "|(9,[4,5,6,7],[1.0...|        7.3|\n",
            "+--------------------+-----------+\n",
            "only showing top 10 rows\n",
            "\n"
          ]
        }
      ]
    },
    {
      "cell_type": "markdown",
      "metadata": {
        "id": "vOqVJPzl5msq"
      },
      "source": [
        "# Model Selection and Training"
      ]
    },
    {
      "cell_type": "code",
      "source": [
        "# initialize the Linear Regression model\n",
        "lr = LinearRegression(featuresCol=\"features\", labelCol=\"fare_amount\")"
      ],
      "metadata": {
        "id": "WtK8pcAp5ZE-"
      },
      "execution_count": 43,
      "outputs": []
    },
    {
      "cell_type": "code",
      "source": [
        "# define the parameter grid for Linear Regression\n",
        "paramGrid = ParamGridBuilder() \\\n",
        "    .addGrid(lr.regParam, [0.01, 0.1, 0.5]) \\\n",
        "    .addGrid(lr.elasticNetParam, [0.0, 0.5, 1.0]) \\\n",
        "    .build()"
      ],
      "metadata": {
        "id": "Nt61ZsAf62EA"
      },
      "execution_count": 44,
      "outputs": []
    },
    {
      "cell_type": "code",
      "source": [
        "# Evaluate model\n",
        "lrevaluator = RegressionEvaluator(predictionCol=\"prediction\", labelCol=\"fare_amount\", metricName=\"rmse\")\n",
        "\n",
        "# Create 3-fold CrossValidator\n",
        "lrcv = CrossValidator(estimator = lr,\n",
        "                    estimatorParamMaps = paramGrid,\n",
        "                    evaluator = lrevaluator,\n",
        "                    numFolds = 3)"
      ],
      "metadata": {
        "id": "bGHBRKpC692m"
      },
      "execution_count": 45,
      "outputs": []
    },
    {
      "cell_type": "code",
      "source": [
        "# fit the model\n",
        "cv_model = lrcv.fit(train_data)"
      ],
      "metadata": {
        "id": "TKdBwKbI5iqs"
      },
      "execution_count": 46,
      "outputs": []
    },
    {
      "cell_type": "markdown",
      "metadata": {
        "id": "De5xFR5N5vxw"
      },
      "source": [
        "# Model Evaluation"
      ]
    },
    {
      "cell_type": "code",
      "source": [
        "# get predictions from the best model\n",
        "predictions = cv_model.transform(test_data)\n",
        "\n",
        "# evaluate the best model using RMSE\n",
        "rmse = lrevaluator.evaluate(predictions)\n",
        "print(f\"Best Model's RMSE on test data: {rmse}\")\n",
        "\n"
      ],
      "metadata": {
        "id": "0h9mMqF_5oO9",
        "colab": {
          "base_uri": "https://localhost:8080/"
        },
        "outputId": "43bcc340-c9dc-42b9-a1ad-72140beb9b23"
      },
      "execution_count": null,
      "outputs": [
        {
          "output_type": "stream",
          "name": "stdout",
          "text": [
            "Best Model's RMSE on test data: 4.138002179017846\n"
          ]
        }
      ]
    },
    {
      "cell_type": "code",
      "source": [],
      "metadata": {
        "id": "_PshfGXj-TY4"
      },
      "execution_count": null,
      "outputs": []
    },
    {
      "cell_type": "code",
      "source": [
        "# Generate predictions\n",
        "predictions = cv_model.transform(test_data).select(\"prediction\", \"fare_amount\").toPandas()\n",
        "\n",
        "plt.figure(figsize=(10, 6))\n",
        "sns.scatterplot(x=\"fare_amount\", y=\"prediction\", data=predictions, alpha=0.3)\n",
        "plt.plot([0, 100], [0, 100], color=\"red\", linestyle=\"--\")  # Line for reference\n",
        "plt.title(\"Predicted vs. Actual Fare Amount\")\n",
        "plt.xlabel(\"Actual Fare ($)\")\n",
        "plt.ylabel(\"Predicted Fare ($)\")\n",
        "plt.show()\n"
      ],
      "metadata": {
        "colab": {
          "base_uri": "https://localhost:8080/",
          "height": 564
        },
        "id": "VmOrsL2n-IVp",
        "outputId": "7960ad52-b785-4182-8477-b98fedfc8b0c"
      },
      "execution_count": 77,
      "outputs": [
        {
          "output_type": "display_data",
          "data": {
            "text/plain": [
              "<Figure size 1000x600 with 1 Axes>"
            ],
            "image/png": "[encoded data removed]"
          },
          "metadata": {}
        }
      ]
    }
  ],
  "metadata": {
    "colab": {
      "provenance": []
    },
    "kernelspec": {
      "display_name": "Python 3",
      "name": "python3"
    },
    "language_info": {
      "name": "python"
    }
  },
  "nbformat": 4,
  "nbformat_minor": 0
}